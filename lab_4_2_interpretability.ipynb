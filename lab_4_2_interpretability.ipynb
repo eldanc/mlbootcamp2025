{
  "cells": [
    {
      "cell_type": "markdown",
      "metadata": {
        "id": "bQV7JO4uoIfk"
      },
      "source": [
        "<a target=\"_blank\" href=\"https://colab.research.google.com/github/eldanc/mlbootcamp2025/blob/main/lab_4_2_interpretability.ipynb\">\n",
        "  <img src=\"https://colab.research.google.com/assets/colab-badge.svg\" alt=\"Open In Colab\"/>\n",
        "</a>\n",
        "\n",
        "# UofT DSI-CARTE ML Bootcamp\n",
        "#### June 12, 2025\n",
        "#### Interpretability and Fairness - Lab 2, Day 4\n",
        "#### Teaching team: Eldan Cohen, Nakul Upadhya\n",
        "##### Lab author: Nakul Upadhya modified by Eldan Cohen and Alex Olson\n",
        "\n",
        "As decision-making increasingly relies on artificial intelligence, the issue of fairness and equity in machine learning is rapidly becoming a larger concern. In this lab, we will introduce various metrics that help analyze the biases of our models, as well as techniques that can help mitigate these discrepancies.\n",
        "\n",
        "The main packages we will be using in this lab is `fairlearn` [1], `interpret`[5], and `shap` [4] along with all the other packages we have previously used.\n",
        "\n"
      ]
    },
    {
      "cell_type": "code",
      "execution_count": null,
      "metadata": {
        "id": "ONptgKWToJkj"
      },
      "outputs": [],
      "source": [
        "## Install Packages\n",
        "!pip install fairlearn\n",
        "!pip install shap\n",
        "!pip install xgboost\n",
        "!pip install interpret\n",
        "\n",
        "## Import packages\n",
        "import numpy as np\n",
        "import pandas as pd\n",
        "from IPython.display import clear_output\n",
        "\n",
        "# IGNORE THESE LINES. They just turn off some annoying messages\n",
        "pd.options.mode.chained_assignment = None\n",
        "import warnings\n",
        "warnings.filterwarnings(\"ignore\", category=UserWarning)\n",
        "\n",
        "clear_output()"
      ]
    },
    {
      "cell_type": "markdown",
      "metadata": {
        "id": "ocEDl1_giEte"
      },
      "source": [
        "## Data\n",
        "For this analysis, we will be working with the COMPAS dataset [2], a dataset used by the Correctional Offender Management Profiling for Alternative Sanctions (COMPAS) system. This is a popular tool used in the United States to assess the risk of recidivism (likelihood of re-offending) for individuals involved in the criminal justice system. ***The system is currently actively employed by judges and parole boards to make decisions about bail, sentencing, and parole.***\n",
        "\n",
        "The COMPAS system has been criticized for exhibiting racial and gender biases. Many studies have suggested that the tool is more likely to label Black defendants as high-risk and White defendants as low-risk, even when controlling for other factors. This has raised concerns about fairness and potential discrimination in decision-making processes. For more information about COMPAS, I highly encourage reading the [Propublica article that broke the story](https://www.propublica.org/article/machine-bias-risk-assessments-in-criminal-sentencing).\n",
        "\n",
        "This highly controversial system and the data it uses perfectly demonstrates the need for interpretability in machine learning. Let's start by reading and preprocessing the data. Some of the code for preprocessing has been borrowed from [this notebook.](https://github.com/tsotne95/FairnessCompas/blob/master/Fairness_in_Classification_on_the_COMPAS_dataset.ipynb)"
      ]
    },
    {
      "cell_type": "code",
      "execution_count": null,
      "metadata": {
        "id": "CLpKGkWijqG_"
      },
      "outputs": [],
      "source": [
        "from sklearn.model_selection import train_test_split\n",
        "from sklearn.preprocessing import LabelEncoder\n",
        "\n",
        "# Load data\n",
        "df_original = pd.read_csv(\n",
        "    \"https://raw.githubusercontent.com/tsotne95/FairnessCompas/master/compas-scores-two-years.csv\"\n",
        ")\n",
        "print(f\"Original Entries in dataset: {df_original.shape}\")\n",
        "\n",
        "# Preprocessing\n",
        "df_clean = df_original.dropna(\n",
        "    subset=[\"days_b_screening_arrest\"]\n",
        ")  # dropping missing vals\n",
        "df_clean = df_clean[\n",
        "    (df_clean.days_b_screening_arrest <= 30)\n",
        "    & (df_clean.days_b_screening_arrest >= -30)\n",
        "    & (df_clean.is_recid != -1)\n",
        "    & (df_clean.c_charge_degree != \"O\")\n",
        "    & (df_clean.score_text != \"N/A\")\n",
        "]\n",
        "\n",
        "# Reset index after removing rows\n",
        "df_clean.reset_index(inplace=True, drop=True)\n",
        "\n",
        "# Keep relevant columns and rename\n",
        "df_clean = df_clean[\n",
        "    [\n",
        "        \"sex\",\n",
        "        \"age\",\n",
        "        \"race\",\n",
        "        \"juv_fel_count\",\n",
        "        \"juv_misd_count\",\n",
        "        \"juv_other_count\",\n",
        "        \"priors_count\",\n",
        "        \"two_year_recid\",\n",
        "        \"c_charge_degree\",\n",
        "    ]\n",
        "]\n",
        "df_clean.rename({\"c_charge_degree\": \"felony\"}, axis=1, inplace=True)\n",
        "\n",
        "# Label encoding for 'sex' and 'felony' columns\n",
        "label_encoder = LabelEncoder()\n",
        "df_clean[\"sex\"] = label_encoder.fit_transform(df_clean[\"sex\"])\n",
        "df_clean[\"felony\"] = label_encoder.fit_transform(df_clean[\"felony\"])\n",
        "\n",
        "# Get dummies for 'race' column\n",
        "df_dummies = pd.get_dummies(df_clean[\"race\"])\n",
        "df_dummies.columns = [x for x in df_dummies.columns]\n",
        "\n",
        "# Drop 'race' column and concatenate the dummies dataframe\n",
        "df_final = pd.concat([df_clean.drop(\"race\", axis=1), df_dummies], axis=1)\n",
        "\n",
        "# Remove NA values\n",
        "df_final = df_final.dropna()\n",
        "print(f\"Entries in dataset after preprocessing: {df_final.shape}\")\n",
        "\n",
        "# Define features and target\n",
        "X = df_final.drop(\"two_year_recid\", axis=1)\n",
        "y = df_final[\"two_year_recid\"]\n"
      ]
    },
    {
      "cell_type": "markdown",
      "metadata": {
        "id": "npFKbD2MY0FS"
      },
      "source": [
        "Now that its been pre-processed, lets split it up into train and test datasets."
      ]
    },
    {
      "cell_type": "code",
      "execution_count": null,
      "metadata": {
        "id": "cAwRdDvIqExI"
      },
      "outputs": [],
      "source": [
        "\n",
        "# Split data into training and testing sets\n",
        "X_train, X_test, y_train, y_test = train_test_split(\n",
        "    X, y, test_size=0.25, random_state=42\n",
        ")\n",
        "\n",
        "# Print final dataset information\n",
        "print(\n",
        "    f\"There are {X_train.shape[0]} training data points and {X_test.shape[0]} testing points\"\n",
        ")\n",
        "print(f\"There are {X_train.shape[1]} features in the dataset\")"
      ]
    },
    {
      "cell_type": "markdown",
      "metadata": {
        "id": "KZxtRAjiAZJP"
      },
      "source": [
        "## Model-Based Interpretability\n",
        "\n",
        "One way we can use machine learning is to explore potential systemic issues present in the data. One way to do this is to utilize models that are constrained so that their predictive mechanisms are innately understandable to humans.\n",
        "\n",
        "### Decision Tree\n",
        "One approach that provides model-based interpretability is the Decision Tree. Once a decision tree is trained, we as humans can visualize and walk through its decision mechanisms.\n",
        "\n",
        "Lets try fitting a 3 layer decision tree on our model and print out the testing accuracy and what features are used.\n",
        "\n"
      ]
    },
    {
      "cell_type": "code",
      "execution_count": null,
      "metadata": {
        "id": "q7fcL9F4Wcmg"
      },
      "outputs": [],
      "source": [
        "from sklearn.tree import DecisionTreeClassifier, export_graphviz\n",
        "from sklearn.metrics import accuracy_score\n",
        "import graphviz # Package containing visualization tools\n",
        "\n",
        "tree_clf = DecisionTreeClassifier(max_depth = 3, random_state = 42)\n",
        "\n",
        "tree_clf.fit(X_train, y_train)\n",
        "\n",
        "accuracy = accuracy_score(y_test, tree_clf.predict(X_test)) * 100\n",
        "print(f\"Test Accuracy: {accuracy :.2f}%\")"
      ]
    },
    {
      "cell_type": "code",
      "execution_count": null,
      "metadata": {
        "id": "hVdJYAmFZBOw"
      },
      "outputs": [],
      "source": [
        "from sklearn.tree import plot_tree\n",
        "import matplotlib.pyplot as plt\n",
        "\n",
        "def plot_decision_tree(\n",
        "    clf, feature_names, class_names=[\"False\", \"True\"], figsize=(20, 10), fontsize=8\n",
        "):\n",
        "    fig, ax = plt.subplots(figsize=figsize)\n",
        "    plot_tree(\n",
        "        clf,\n",
        "        feature_names=feature_names,\n",
        "        filled=True,\n",
        "        ax=ax,\n",
        "        impurity=False,\n",
        "        class_names=class_names,\n",
        "        fontsize=fontsize,\n",
        "    )\n",
        "    plt.show()\n",
        "\n",
        "\n",
        "# usage\n",
        "plot_decision_tree(tree_clf, X_test.columns)\n",
        "\n",
        "## This tree is shaded based on the number of data points that fall into that node\n",
        "## and the label of those datapoints. Ex. A dark blue node means that most of\n",
        "## training datapoints that fall into that node did commit a crime within\n",
        "## two years of release. Dark orange is the opposite."
      ]
    },
    {
      "cell_type": "markdown",
      "source": [
        "As you can see, given a small decision tree, users can easily interpret what the models has learned from the data and easily recreate the prediction for any given point. We call this attribute of a model **simulability**, and often we consider a simulable model to be inherently interpretable."
      ],
      "metadata": {
        "id": "gR1Rgkk_Xs0W"
      }
    },
    {
      "cell_type": "markdown",
      "source": [
        "![image.png](data:image/png;base64,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)"
      ],
      "metadata": {
        "id": "bDtGIuOta2ql"
      }
    },
    {
      "cell_type": "markdown",
      "source": [
        "We can interpret each node as follows:\n",
        "1. The decision rule. Go left if true, right otherwise.\n",
        "2. The number of samples that reach that node\n",
        "3. The number of samples in each class.\n",
        "4. The majority class.\n",
        "\n",
        "---\n",
        "\n",
        "**Your Turn**\n",
        "* If an 18 yr old male with no prior convictions commits a crime, what will the model predict? (Male = 1 in the sex column)  ___________________\n",
        "* What change to this individual's features would lead the model to make a different prediction? ___________________\n",
        "\n",
        "---\n",
        "\n",
        "\n",
        "\n",
        "In addition to interpreting the full tree, we can also interpret the \"importance\" of a feature by aggregating the reduction in impurity from each feature."
      ],
      "metadata": {
        "id": "TqfB1PCga5l4"
      }
    },
    {
      "cell_type": "code",
      "execution_count": null,
      "metadata": {
        "id": "MRnZYVUmeM0-"
      },
      "outputs": [],
      "source": [
        "# import plotly.express as px # Interactive Plotting Package\n",
        "\n",
        "\n",
        "tree_importances = pd.DataFrame()\n",
        "tree_importances['feature'] = X_train.columns\n",
        "tree_importances['tree_importance'] = tree_clf.feature_importances_\n",
        "tree_importances.sort_values(by = 'tree_importance', inplace =True, ascending = False)\n",
        "# Remove features without any importance\n",
        "importances = tree_importances[tree_importances['tree_importance'] > 0]\n",
        "\n",
        "plt.bar(importances['feature'], importances['tree_importance'])\n",
        "plt.xticks(rotation = 90)\n",
        "plt.show()\n"
      ]
    },
    {
      "cell_type": "markdown",
      "metadata": {
        "id": "PuQdbZY_sTQH"
      },
      "source": [
        "### Generalized Additive Models"
      ]
    },
    {
      "cell_type": "markdown",
      "metadata": {
        "id": "0YwvSkUZXy1w"
      },
      "source": [
        "In many cases, the decision tree is not the ideal model and we may want to utilize alternatives. One potential alternative approach is the **Generalized Additive Model (GAM).**\n",
        "\n",
        "GAMs are inherently interpretable models that learn a shape function for each feature, and predictions are made by “querying” the shape function. Since these shape functions are independent, the impact of a feature on the prediction can be understood by visualizing these shape functions, making them highly explainable. Formally, a GAM's prediction ($g(x)$) is defined as:\n",
        "$$\n",
        "g(x) = \\sum_{i=1}^N f(x_i)\n",
        "$$\n",
        "\n",
        "Lets train and visualize a GAM to see how this looks like. The GAM we will use today is the *Explainable Boosting Machine* (EBM) available in the `interpret` package. First lets fit the EBM:\n"
      ]
    },
    {
      "cell_type": "code",
      "execution_count": null,
      "metadata": {
        "id": "cAC6R1vp9MLJ"
      },
      "outputs": [],
      "source": [
        "from interpret.glassbox import ExplainableBoostingClassifier\n",
        "\n",
        "gam_clf = ExplainableBoostingClassifier(interactions = 0, random_state = 42)\n",
        "\n",
        "gam_clf.fit(X_train, y_train)\n",
        "\n",
        "accuracy = accuracy_score(y_test, gam_clf.predict(X_test)) * 100\n",
        "print(f\"Test Accuracy: {accuracy :.2f}%\")"
      ]
    },
    {
      "cell_type": "markdown",
      "metadata": {
        "id": "Vd5L43rsZZ87"
      },
      "source": [
        "The `interpret` package provides the ability to visualize the feature importances of the GAM as well as the learned shape functions. You can navigate the different graphs using the dropdown.\n",
        "\n",
        "We make a prediction by querying each graph and"
      ]
    },
    {
      "cell_type": "code",
      "execution_count": null,
      "metadata": {
        "id": "-lMQcT9dZZar"
      },
      "outputs": [],
      "source": [
        "from interpret import show\n",
        "\n",
        "ebm_global = gam_clf.explain_global()\n",
        "show(ebm_global)"
      ]
    },
    {
      "cell_type": "markdown",
      "metadata": {
        "id": "TFOUvB9Va8Qw"
      },
      "source": [
        "---\n",
        "\n",
        "**Your Turn:**\n",
        "*   What is most important feature? ________________\n",
        "*   Do these importances line up with the decision tree explanations above? ________________\n",
        "*   For the most important features, describe the relationship between the feature and the model prediction? ________________\n",
        "---\n"
      ]
    },
    {
      "cell_type": "markdown",
      "source": [
        "In addition to *global* explanations (explaining the general model behavior), GAMs also provide local explanations. Lets see this in action by taking the first point in our training dataset:"
      ],
      "metadata": {
        "id": "xS8zSRJokq6N"
      }
    },
    {
      "cell_type": "code",
      "source": [
        "sample_point = X_train.iloc[[0]]\n",
        "print(sample_point.iloc[0])"
      ],
      "metadata": {
        "id": "3LtE6VHtkyUc"
      },
      "execution_count": null,
      "outputs": []
    },
    {
      "cell_type": "markdown",
      "source": [
        "To create explanations, we can use the `explain_local` function:"
      ],
      "metadata": {
        "id": "lD7Da6aslpR_"
      }
    },
    {
      "cell_type": "code",
      "source": [
        "ebm_local = gam_clf.explain_local(sample_point)\n",
        "show(ebm_local)\n",
        "\n",
        "# Click the dropdown and select the 1st item after summary"
      ],
      "metadata": {
        "id": "056oqhKZlZ5Y"
      },
      "execution_count": null,
      "outputs": []
    },
    {
      "cell_type": "markdown",
      "source": [
        "---\n",
        "\n",
        "**Your Turn**\n",
        "* What was the most significant feature in the prediction for this individual? ________________\n",
        "* If this individual asked why the model predicted what it did, what explanation could you provide? ________________\n",
        "* Consider both the Decision Tree and the GAM. Are these \"fair\" models? ________________\n",
        "\n",
        "\n",
        "---"
      ],
      "metadata": {
        "id": "WIuBSv15lVGv"
      }
    },
    {
      "cell_type": "markdown",
      "metadata": {
        "id": "1wTCWrjtX2rt"
      },
      "source": [
        "## Post-Hoc Interpretability\n",
        "\n",
        "Not all models can provide intrinsic explanations. One example of this is SVM where it simply creates hyperplanes to seperate classes. So what do we do in this case? This is where *post-hoc interpretability* methods come into play. Post-hoc methods work y taking in a trained models, modifying the inputs, and examining how significantly the outputs changed.\n",
        "\n",
        "One such interpretability tool is SHAP (Shapely Additive Values). SHAP provides feature importance by using methods from game theory to estimate the contribution of each feature towards the final prediction.\n",
        "\n",
        "\n",
        "SHAP can provide a sense of both local (explaining a single prediction) and global (explaining general prediction trends) interpretability.\n",
        "\n",
        "To start, we first need to train a model to explain. For this exercise, we will use SVM with a radial kernel"
      ]
    },
    {
      "cell_type": "code",
      "execution_count": null,
      "metadata": {
        "id": "SLi3Fte7DNFt"
      },
      "outputs": [],
      "source": [
        "from sklearn.svm import SVC\n",
        "\n",
        "svc_clf = SVC(kernel = 'rbf', max_iter = 2000)\n",
        "svc_clf.fit(X_train, y_train)\n",
        "accuracy = accuracy_score(y_test, svc_clf.predict(X_test)) * 100\n",
        "print(f\"Test Accuracy: {accuracy :.2f}%\")"
      ]
    },
    {
      "cell_type": "markdown",
      "metadata": {
        "id": "7FKmTwqiDNLu"
      },
      "source": [
        "Now to start our explanation process. We start off by first creating a summary of our dataset (this is to make SHAP run faster) and creating our explainer object.\n",
        "\n",
        "\n",
        "\n"
      ]
    },
    {
      "cell_type": "code",
      "execution_count": null,
      "metadata": {
        "id": "_4OPT_6KEGV5"
      },
      "outputs": [],
      "source": [
        "import shap\n",
        "# rather than use the whole training set to estimate expected values, we summarize with\n",
        "# a set of weighted kmeans, each weighted by the number of points they represent.\n",
        "# this helps everything run faster\n",
        "X_train_summary = shap.kmeans(X_train, 7)\n",
        "\n",
        "# Create the shap explainer by passing in our model's predict function and\n",
        "# the summarized training set\n",
        "ex = shap.KernelExplainer(svc_clf.predict, X_train_summary, feature_names = X_train.columns)\n",
        "\n",
        "# We are also only going to look at 100 points (to make it easier to visualize)\n",
        "X_test_subset = X_test.sample(100, random_state = 42).reset_index(drop=True)"
      ]
    },
    {
      "cell_type": "markdown",
      "metadata": {
        "id": "wBe1Gvt-QeZ4"
      },
      "source": [
        "\n",
        "Let's first look into the local explainability provided by SHAP by examining what contributes to the predictions of the 2nd datapoint in our testing subset."
      ]
    },
    {
      "cell_type": "code",
      "execution_count": null,
      "metadata": {
        "id": "iK7FNfz9H8uA"
      },
      "outputs": [],
      "source": [
        "shap.initjs()\n",
        "first_datapoint = X_test_subset.iloc[1]\n",
        "single_point_shap_values = ex.shap_values(first_datapoint)\n",
        "shap.force_plot(ex.expected_value, single_point_shap_values, first_datapoint)"
      ]
    },
    {
      "cell_type": "markdown",
      "metadata": {
        "id": "j0WphK7PLWmm"
      },
      "source": [
        "In the plot above, feature values that increased the chance of the model predicting a readmission are in red and have arrows that point to the right (they provide a positive force) and feature values that detract from the probability of readmission are in blue and point to the left. The larger the arrow, the larger the contribution.\n",
        "\n",
        "---\n",
        "\n",
        "**Your Turn**\n",
        "\n",
        "* What features seem to have the most negative impact to the end prediction of the data point you chose? What about the one with the most positive impact? ________________\n",
        "* Choose a different data point and see if you see any similarities in the features used and their impact towards the end prediction. ________________\n",
        "\n",
        "---"
      ]
    },
    {
      "cell_type": "markdown",
      "metadata": {
        "id": "MYfQcTgXMMI0"
      },
      "source": [
        "In addition to individual explanations, SHAP can provide a sense of global explainability by examining trends in the SHAP values across the variable values. To do this, we can generate a summary plot of the calculated values. NOTE: This may take a while....."
      ]
    },
    {
      "cell_type": "code",
      "execution_count": null,
      "metadata": {
        "id": "hC06z6H9QwiB"
      },
      "outputs": [],
      "source": [
        "shap.initjs()\n",
        "shap_values = ex.shap_values(X_test_subset)\n",
        "shap.summary_plot(shap_values, X_test_subset)"
      ]
    },
    {
      "cell_type": "markdown",
      "metadata": {
        "id": "9NvmzymoWiag"
      },
      "source": [
        "The color of the point reflects the value of a given feature in a given data point. For example, a red point in `felony` means that the feature took a value of 1 (true) and a blue point means a value of 0 (false). The X-axis of this plot represents SHAP contribution (the estimated impact on the end model prediction). By examining the distribution of the feature values across the x-axis, we can find what features may"
      ]
    },
    {
      "cell_type": "code",
      "execution_count": null,
      "metadata": {
        "id": "aXfrs9GJK5-f"
      },
      "outputs": [],
      "source": [
        "abs_shap_values = np.abs(shap_values)\n",
        "shap_sums = np.sum(abs_shap_values, axis=0)\n",
        "importances = pd.DataFrame()\n",
        "importances['feature'] = X_train.columns\n",
        "importances['importance'] = shap_sums\n",
        "importances.sort_values(by = 'importance', inplace =True, ascending = False)\n",
        "importances = importances[importances['importance'] > 0]\n",
        "plt.bar(importances['feature'], importances['importance'])\n",
        "plt.xticks(rotation = 90)\n",
        "plt.show()"
      ]
    },
    {
      "cell_type": "markdown",
      "metadata": {
        "id": "6vvC9-mfM1iM"
      },
      "source": [
        "---\n",
        "\n",
        "**Your Turn**\n",
        "\n",
        "* What features seem important to the SVM model according to SHAP? ________________\n",
        "* Do these SHAP importances align with the EBM and Decision Tree Importances? ________________\n",
        "\n",
        "Now consider all three models and the feature importances found.\n",
        "* Are there any pattern that make sense to you? ________________\n",
        "* Are there any patterns that seem concerning from an equity perspective? ________________\n",
        "\n",
        "---"
      ]
    },
    {
      "cell_type": "markdown",
      "metadata": {
        "id": "mIsp4G29aZxB"
      },
      "source": [
        "#### Notes about SHAP\n",
        "SHAP is an incredibly powerful tool to understand what your model may be doing, ***however it is only an estimate***. The SHAP value calculations only examine your model's behavior and do not dive into the internals of the model, therefore these values should not be taken at face value. Additionally, as you may have noticed in the plots above, SHAP values do not reflect interacting effects between features, something that most models do in fact use. This extends to other post-hoc interpretability methods as well.\n",
        "\n",
        "As such, it is highly encouraged to use innately interpretable models whenever possible. For a more rigourous justification, please read Cynthia Rudin's paper on the subject [3] after the lab.\n",
        "\n",
        "Additionally, quoting the SHAP documentation [4]:\n",
        "\n",
        "\n",
        "> Predictive machine learning models like XGBoost become even more powerful when paired with interpretability tools like SHAP. These tools identify the most informative relationships between the input features and the predicted outcome, which is useful for explaining what the model is doing, getting stakeholder buy-in, and diagnosing potential problems. It is tempting to take this analysis one step further and assume that interpretation tools can also identify what features decision makers should manipulate if they want to change outcomes in the future. However, in [this article](https://shap.readthedocs.io/en/latest/example_notebooks/overviews/Be%20careful%20when%20interpreting%20predictive%20models%20in%20search%20of%20causal%C2%A0insights.html), we discuss how using predictive models to guide this kind of policy choice can often be misleading.\n",
        "\n",
        "> *Eleanor Dillon, Jacob LaRiviere, Scott Lundberg, Jonathan Roth, and Vasilis Syrgkanis from Microsoft.*\n",
        "\n",
        "\n",
        "\n",
        "\n",
        "\n",
        "\n"
      ]
    },
    {
      "cell_type": "markdown",
      "metadata": {
        "id": "maL8tP4Ouh_I"
      },
      "source": [
        "\n",
        "## Fairness\n",
        "Now that we have understood a bit of what are model is looking at and in general how it handles the features, lets examine how fair and equitable our models performance is. Ideally, a fair model should perform identically across different sensitive identities.\n",
        "\n",
        "Lets examine the fairness of our Decision Tree predictions\n",
        "\n",
        "\n"
      ]
    },
    {
      "cell_type": "code",
      "execution_count": null,
      "metadata": {
        "id": "CGoOLPAZOCBZ"
      },
      "outputs": [],
      "source": [
        "y_pred = tree_clf.predict(X_test) # Save the Test Predictions"
      ]
    },
    {
      "cell_type": "markdown",
      "metadata": {
        "id": "QpxsMDK3d8b_"
      },
      "source": [
        "#### Measurement\n",
        "The first step in ML fairness is to measure how fair the model is. For this, we will introduce two metrics.\n",
        "\n",
        "The first measure is *Demographic Parity*, or more accurately, the distance from demographic parity. Demographic parity is achieved when the probability of a certain prediction is not dependent on a point being in a sensitive group. This metric takes a range between 0 and 1 where 0 means we have achieved perfect demographic parity with respect to that feature.\n",
        "\n",
        "In general, a parity of under 20% is acceptable in many countries like the United States [1] to avoid legal problems, **however this should not be the goal as \"legally acceptable\" is not equal to \"fair\"**, especially in a high-stakes application such as law (like the dataset we are working with). Read more about the 4/5ths fallacy in the [fairlearn documentation](https://fairlearn.org/v0.8/user_guide/assessment/common_fairness_metrics.html#the-four-fifths-rule-often-misapplied) [1] after the lab.\n",
        "\n",
        "**Your Turn**\n",
        "* For this problem in particular, what do you think an acceptable parity difference would be? ________________\n",
        "* Run the cell below that evaluates the difference between African-American individuals and non-African-American individuals. Is this model fair with regards to this feature? ________________\n",
        "* Test your own sensitive feature by changing `feature_under_examination`.Try a few features to see if you can find one that exceeds the margin you decided. Were you able to find one? ________________\n",
        "\n",
        "Tip: Get all features in our data used by running `X_test.columns`."
      ]
    },
    {
      "cell_type": "code",
      "execution_count": null,
      "metadata": {
        "id": "-0J_ur4lk3xS"
      },
      "outputs": [],
      "source": [
        "from fairlearn.metrics import demographic_parity_difference\n",
        "feature_under_examination = 'African-American'\n",
        "parity_difference = demographic_parity_difference(y_test,\n",
        "                                    y_pred,\n",
        "                                    sensitive_features=X_test[feature_under_examination])\n",
        "parity_difference = np.round(parity_difference * 100, 3)\n",
        "print(f\"The demographic parity difference for {feature_under_examination} is {parity_difference}%\")"
      ]
    },
    {
      "cell_type": "markdown",
      "metadata": {
        "id": "1SzhQV7WoNdW"
      },
      "source": [
        "The next metric is Equalized Odds. If equalized odds are achieved, that means that the difference in true positive rates and true negative rates across classes is the same. Often times, we measure the maximum difference between these metrics across the classes. For example, if the TPR and TNR for men were 75% and 65% and the rates for women were 73% and 52%, we would report back 13%.\n",
        "\n",
        "Similar to demographic parity, we want this to be as low as possible. Additionally, this metric is also subject to the 4/5ths fallacy as well.\n",
        "\n",
        "---\n",
        "\n",
        "**Your Turn**\n",
        "* Between demographic parity and equalized odds, which is a harder criteria to achieve and why? ________________\n",
        "* For this problem in particular, what do you think an acceptable equalized odds difference would be? ________________\n",
        "* Run the cell below that evaluates the difference between African-American individuals and non-African-American individuals. Is this model fair with regards to this feature? ________________\n",
        "* Test your own sensitive feature by changing `feature_under_examination` in the cell below.Try a few features to see if you can find one that exceeds the margin you decided. Were you able to find one? ________________\n",
        "\n"
      ]
    },
    {
      "cell_type": "code",
      "execution_count": null,
      "metadata": {
        "id": "kmk1WHiRk4HT"
      },
      "outputs": [],
      "source": [
        "from fairlearn.metrics import equalized_odds_difference\n",
        "feature_under_examination = 'African-American'\n",
        "eo_difference = equalized_odds_difference(y_test,\n",
        "                                    y_pred,\n",
        "                                    sensitive_features=X_test[feature_under_examination])\n",
        "eo_difference = np.round(eo_difference * 100, 3)\n",
        "print(f\"The Equalized Odds difference for {feature_under_examination} is {eo_difference}%\")"
      ]
    },
    {
      "cell_type": "markdown",
      "source": [
        "---"
      ],
      "metadata": {
        "id": "1TVhaj4enprz"
      }
    },
    {
      "cell_type": "markdown",
      "metadata": {
        "id": "HorZkT-K4MOf"
      },
      "source": [
        "## References\n",
        "1. Bird, S., Dudík, M., Edgar, R., Horn, B., Lutz, R., Milan, V., … Walker, K. (2020). Fairlearn: A toolkit for assessing and improving fairness in AI. Retrieved from Microsoft website: https://www.microsoft.com/en-us/research/publication/fairlearn-a-toolkit-for-assessing-and-improving-fairness-in-ai/\n",
        "2. Larson, J., Mattu, S., Kirchner, L., Angwin,J. (2016). How We Analyzed the COMPAS Recidivism Algorithm. https://www.propublica.org/article/how-we-analyzed-the-compas-recidivism-algorithm\n",
        "3. Rudin, C. Stop explaining black box machine learning models for high stakes decisions and use interpretable models instead. Nat Mach Intell 1, 206–215 (2019). https://doi.org/10.1038/s42256-019-0048-x\n",
        "4. Lundberg, S. M., & Lee, S.-I. (2017). A Unified Approach to Interpreting Model Predictions. In I. Guyon, U. V. Luxburg, S. Bengio, H. Wallach, R. Fergus, S. Vishwanathan, & R. Garnett (Eds.), Advances in Neural Information Processing Systems 30 (pp. 4765–4774). Retrieved from http://papers.nips.cc/paper/7062-a-unified-approach-to-interpreting-model-predictions.pdf\n",
        "5. Nori, H., Jenkins, S., Koch, P., & Caruana, R. (2019). Interpretml: A unified framework for machine learning interpretability. arXiv preprint arXiv:1909.09223.\n",
        "\n",
        "\n"
      ]
    }
  ],
  "metadata": {
    "colab": {
      "machine_shape": "hm",
      "provenance": []
    },
    "gpuClass": "standard",
    "kernelspec": {
      "display_name": "Python 3",
      "name": "python3"
    },
    "language_info": {
      "name": "python"
    }
  },
  "nbformat": 4,
  "nbformat_minor": 0
}